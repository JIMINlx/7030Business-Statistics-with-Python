{
  "cells": [
    {
      "cell_type": "markdown",
      "metadata": {
        "id": "view-in-github",
        "colab_type": "text"
      },
      "source": [
        "<a href=\"https://colab.research.google.com/github/JIMINlx/7030Business-Statistics-with-Python/blob/main/02_PythonDataStructure_Demo.ipynb\" target=\"_parent\"><img src=\"https://colab.research.google.com/assets/colab-badge.svg\" alt=\"Open In Colab\"/></a>"
      ]
    },
    {
      "cell_type": "markdown",
      "id": "865d6bdb",
      "metadata": {
        "id": "865d6bdb"
      },
      "source": [
        "#  02_PythonDataStructure"
      ]
    },
    {
      "cell_type": "markdown",
      "id": "b7739ea0",
      "metadata": {
        "id": "b7739ea0"
      },
      "source": [
        "# 1. Lists"
      ]
    },
    {
      "cell_type": "markdown",
      "id": "143f4df9",
      "metadata": {
        "id": "143f4df9"
      },
      "source": [
        "## 1.1 Creating a list"
      ]
    },
    {
      "cell_type": "markdown",
      "id": "5f9c9203",
      "metadata": {
        "id": "5f9c9203"
      },
      "source": [
        "### 1.1.1 Using square brackets"
      ]
    },
    {
      "cell_type": "code",
      "execution_count": null,
      "id": "1c95c6de",
      "metadata": {
        "id": "1c95c6de"
      },
      "outputs": [],
      "source": [
        "#List is a compound data type.\n",
        "print([1,'2',True])\n",
        "print(type([1,'2',True]))\n",
        "print(['abc', 2.0, 5, [10, 20]])\n",
        "type(['abc', 2.0, 5, [10, 20]])"
      ]
    },
    {
      "cell_type": "code",
      "execution_count": 3,
      "id": "1d2a3d3b-0aaa-440b-8c47-9a6ec3046959",
      "metadata": {
        "colab": {
          "base_uri": "https://localhost:8080/"
        },
        "id": "1d2a3d3b-0aaa-440b-8c47-9a6ec3046959",
        "outputId": "a2d339a2-3ef2-4602-f8c5-2a33ad4f72e1"
      },
      "outputs": [
        {
          "output_type": "stream",
          "name": "stdout",
          "text": [
            "['Cheddar', 'Edam', 'Gouda'] [17, 123] []\n"
          ]
        },
        {
          "output_type": "execute_result",
          "data": {
            "text/plain": [
              "list"
            ]
          },
          "metadata": {},
          "execution_count": 3
        }
      ],
      "source": [
        "#Assign list values to variable\n",
        "cheeses = ['Cheddar', 'Edam', 'Gouda']\n",
        "number = [17, 123]\n",
        "empty = []\n",
        "print(cheeses, number, empty)\n",
        "\n",
        "#check the type of empty\n",
        "type(empty)"
      ]
    },
    {
      "cell_type": "markdown",
      "id": "ae616638-f220-4666-a445-99e8c2b628a3",
      "metadata": {
        "id": "ae616638-f220-4666-a445-99e8c2b628a3"
      },
      "source": [
        "### 1.1.2 List operation"
      ]
    },
    {
      "cell_type": "code",
      "execution_count": 1,
      "id": "aec75b23",
      "metadata": {
        "colab": {
          "base_uri": "https://localhost:8080/"
        },
        "id": "aec75b23",
        "outputId": "dbcdddb9-6ef1-401e-f8f4-188844af9411"
      },
      "outputs": [
        {
          "output_type": "stream",
          "name": "stdout",
          "text": [
            "[1, 2, 3, 4, 5, 1, 2, 3, 4, 5]\n"
          ]
        }
      ],
      "source": [
        "list1 = [1, 2, 3, 4, 5]\n",
        "list2 = [1, 2, 3, 4, 5]\n",
        "\n",
        "print(list1 + list2)"
      ]
    },
    {
      "cell_type": "code",
      "execution_count": null,
      "id": "94d89a00",
      "metadata": {
        "id": "94d89a00"
      },
      "outputs": [],
      "source": [
        "list1 = [1, 2, 3, 4, 5]\n",
        "list1 ** 2      #string cannot **"
      ]
    },
    {
      "cell_type": "markdown",
      "id": "06ae9d65",
      "metadata": {
        "id": "06ae9d65"
      },
      "source": [
        "## 1.2 Subsetting a list"
      ]
    },
    {
      "cell_type": "markdown",
      "id": "9c261155-22b0-45e9-a0ac-92a9f34b7e87",
      "metadata": {
        "id": "9c261155-22b0-45e9-a0ac-92a9f34b7e87"
      },
      "source": [
        "### 1.2.1 Indexing"
      ]
    },
    {
      "cell_type": "code",
      "execution_count": 4,
      "id": "1fcce33c",
      "metadata": {
        "colab": {
          "base_uri": "https://localhost:8080/"
        },
        "id": "1fcce33c",
        "outputId": "bf81c0e7-0f06-4eb7-d891-cfef1bcb62b3"
      },
      "outputs": [
        {
          "output_type": "stream",
          "name": "stdout",
          "text": [
            "Cheddar\n"
          ]
        }
      ],
      "source": [
        "#Print the first element in the list cheeses\n",
        "print(cheeses[0])"
      ]
    },
    {
      "cell_type": "code",
      "execution_count": 8,
      "id": "9d453f4f",
      "metadata": {
        "id": "9d453f4f"
      },
      "outputs": [],
      "source": [
        "#Print the first element in the list 'number'\n"
      ]
    },
    {
      "cell_type": "code",
      "execution_count": 7,
      "id": "95b938bf",
      "metadata": {
        "colab": {
          "base_uri": "https://localhost:8080/"
        },
        "id": "95b938bf",
        "outputId": "acc16b20-6071-4233-b2fd-d1014099595f"
      },
      "outputs": [
        {
          "output_type": "stream",
          "name": "stdout",
          "text": [
            "123\n"
          ]
        }
      ],
      "source": [
        "#Print the second element in the list number\n",
        "print(number[1])"
      ]
    },
    {
      "cell_type": "code",
      "execution_count": 10,
      "id": "ba7df85c",
      "metadata": {
        "colab": {
          "base_uri": "https://localhost:8080/",
          "height": 162
        },
        "id": "ba7df85c",
        "outputId": "c7040629-72fa-4fea-8946-fd9ab900bc47"
      },
      "outputs": [
        {
          "output_type": "error",
          "ename": "IndexError",
          "evalue": "list index out of range",
          "traceback": [
            "\u001b[0;31m---------------------------------------------------------------------------\u001b[0m",
            "\u001b[0;31mIndexError\u001b[0m                                Traceback (most recent call last)",
            "\u001b[0;32m<ipython-input-10-41b129b2bbfc>\u001b[0m in \u001b[0;36m<cell line: 2>\u001b[0;34m()\u001b[0m\n\u001b[1;32m      1\u001b[0m \u001b[0;31m#Print the third element in the list number?\u001b[0m\u001b[0;34m\u001b[0m\u001b[0;34m\u001b[0m\u001b[0m\n\u001b[0;32m----> 2\u001b[0;31m \u001b[0mprint\u001b[0m\u001b[0;34m(\u001b[0m\u001b[0mnumber\u001b[0m\u001b[0;34m[\u001b[0m\u001b[0;36m2\u001b[0m\u001b[0;34m]\u001b[0m\u001b[0;34m)\u001b[0m\u001b[0;34m\u001b[0m\u001b[0;34m\u001b[0m\u001b[0m\n\u001b[0m",
            "\u001b[0;31mIndexError\u001b[0m: list index out of range"
          ]
        }
      ],
      "source": [
        "#Print the third element in the list number?\n",
        "print(number[2])"
      ]
    },
    {
      "cell_type": "code",
      "execution_count": 9,
      "id": "fe5fde5f",
      "metadata": {
        "colab": {
          "base_uri": "https://localhost:8080/"
        },
        "id": "fe5fde5f",
        "outputId": "16c7d8ee-53f7-4436-f266-a8af641b8472"
      },
      "outputs": [
        {
          "output_type": "stream",
          "name": "stdout",
          "text": [
            "123\n"
          ]
        }
      ],
      "source": [
        "#Print the last element in the list number\n",
        "print(number[-1])"
      ]
    },
    {
      "cell_type": "code",
      "execution_count": 11,
      "id": "effc7142",
      "metadata": {
        "colab": {
          "base_uri": "https://localhost:8080/"
        },
        "id": "effc7142",
        "outputId": "7bb36860-4c9c-4446-de36-ab7718c9e5dd"
      },
      "outputs": [
        {
          "output_type": "execute_result",
          "data": {
            "text/plain": [
              "True"
            ]
          },
          "metadata": {},
          "execution_count": 11
        }
      ],
      "source": [
        "#Check whether Edam in the list cheeses\n",
        "'Edam' in cheeses"
      ]
    },
    {
      "cell_type": "code",
      "execution_count": 12,
      "id": "ef857875",
      "metadata": {
        "colab": {
          "base_uri": "https://localhost:8080/"
        },
        "id": "ef857875",
        "outputId": "2e89e0c0-e17b-4fcd-f096-81c15f35a5a4"
      },
      "outputs": [
        {
          "output_type": "execute_result",
          "data": {
            "text/plain": [
              "False"
            ]
          },
          "metadata": {},
          "execution_count": 12
        }
      ],
      "source": [
        "#Check whether Brie in the list cheeses\n",
        "'Brie' in cheeses"
      ]
    },
    {
      "cell_type": "markdown",
      "id": "d7b85377",
      "metadata": {
        "id": "d7b85377"
      },
      "source": [
        "### 1.2.2 Slicing"
      ]
    },
    {
      "cell_type": "code",
      "execution_count": 13,
      "id": "e0cd8379",
      "metadata": {
        "colab": {
          "base_uri": "https://localhost:8080/"
        },
        "id": "e0cd8379",
        "outputId": "fc317088-5ea3-4a43-da6e-5f2774d2123b"
      },
      "outputs": [
        {
          "output_type": "stream",
          "name": "stdout",
          "text": [
            "['b', 'c']\n"
          ]
        }
      ],
      "source": [
        "#Slicing *creates* a subset of list\n",
        "#print the second and third elements in the list\n",
        "t = ['a', 'b', 'c', 'd', 'e', 'f']\n",
        "print(t[1:3])"
      ]
    },
    {
      "cell_type": "code",
      "execution_count": 14,
      "id": "47ab0ab5",
      "metadata": {
        "colab": {
          "base_uri": "https://localhost:8080/"
        },
        "id": "47ab0ab5",
        "outputId": "f807dede-2586-4186-837f-11222681fb68"
      },
      "outputs": [
        {
          "output_type": "stream",
          "name": "stdout",
          "text": [
            "['a', 'b', 'c', 'd', 'e', 'f']\n"
          ]
        }
      ],
      "source": [
        "#The original list does not change\n",
        "print(t)"
      ]
    },
    {
      "cell_type": "code",
      "execution_count": 15,
      "id": "71229ae5",
      "metadata": {
        "colab": {
          "base_uri": "https://localhost:8080/"
        },
        "id": "71229ae5",
        "outputId": "825dc9c9-4d6c-408f-dca9-06cff52b0a13"
      },
      "outputs": [
        {
          "output_type": "stream",
          "name": "stdout",
          "text": [
            "['a', 'b', 'c', 'd']\n"
          ]
        }
      ],
      "source": [
        "#If you omit the first index, the slice starts at the beginning.\n",
        "#The index after the colon is exclusive\n",
        "#Print the first 4 elements of list t\n",
        "print(t[:4])"
      ]
    },
    {
      "cell_type": "code",
      "execution_count": 16,
      "id": "439467eb",
      "metadata": {
        "colab": {
          "base_uri": "https://localhost:8080/"
        },
        "id": "439467eb",
        "outputId": "c09d75c7-ff59-47ad-f66c-35d6c7b88c61"
      },
      "outputs": [
        {
          "output_type": "stream",
          "name": "stdout",
          "text": [
            "['d', 'e', 'f']\n"
          ]
        }
      ],
      "source": [
        "#If you omit the second, the slice goes to the end.\n",
        "#The index before the colon is inclusive\n",
        "#Print the last 3 elements of list t\n",
        "print(t[3:])"
      ]
    },
    {
      "cell_type": "code",
      "execution_count": 17,
      "id": "2b74d13c",
      "metadata": {
        "colab": {
          "base_uri": "https://localhost:8080/"
        },
        "id": "2b74d13c",
        "outputId": "be8b21c3-153f-4baa-f630-0a4335754ad1"
      },
      "outputs": [
        {
          "output_type": "stream",
          "name": "stdout",
          "text": [
            "['a', 'b', 'c', 'd', 'e', 'f']\n"
          ]
        }
      ],
      "source": [
        "#If you omit both, the slice is a copy of the whole list.\n",
        "print(t[:])"
      ]
    },
    {
      "cell_type": "markdown",
      "id": "b7160dca",
      "metadata": {
        "id": "b7160dca"
      },
      "source": [
        "## 1.3 Manipulating a list"
      ]
    },
    {
      "cell_type": "markdown",
      "id": "828e2ca4-e687-4e38-b6c4-6d4b19e84867",
      "metadata": {
        "id": "828e2ca4-e687-4e38-b6c4-6d4b19e84867"
      },
      "source": [
        "### 1.3.1 List manipulation basics"
      ]
    },
    {
      "cell_type": "code",
      "execution_count": 18,
      "id": "7f49667a",
      "metadata": {
        "colab": {
          "base_uri": "https://localhost:8080/"
        },
        "id": "7f49667a",
        "outputId": "713a6890-ee10-4046-f6d2-d5fbb0affcbc"
      },
      "outputs": [
        {
          "output_type": "stream",
          "name": "stdout",
          "text": [
            "[17, 5]\n"
          ]
        }
      ],
      "source": [
        "#Using index to modify element in a list\n",
        "numbers = [17, 123]\n",
        "numbers[1] = 5\n",
        "print(numbers)"
      ]
    },
    {
      "cell_type": "code",
      "execution_count": 19,
      "id": "2afe5bd6",
      "metadata": {
        "colab": {
          "base_uri": "https://localhost:8080/"
        },
        "id": "2afe5bd6",
        "outputId": "81a07cf4-186a-4a0b-e7be-857761210697"
      },
      "outputs": [
        {
          "output_type": "stream",
          "name": "stdout",
          "text": [
            "['a', 'x', 'y', 'd', 'e', 'f']\n"
          ]
        }
      ],
      "source": [
        "#Using slicing to modify elements in a list\n",
        "#Using 'x' and 'y' to replace 'b' and 'c'\n",
        "t = ['a', 'b', 'c', 'd', 'e', 'f']\n",
        "t[1:3] = ['x', 'y']\n",
        "print(t)"
      ]
    },
    {
      "cell_type": "code",
      "execution_count": 20,
      "id": "2e462464",
      "metadata": {
        "colab": {
          "base_uri": "https://localhost:8080/"
        },
        "id": "2e462464",
        "outputId": "c1bbf3fa-118a-4aa1-e9de-9d9a63012f5f"
      },
      "outputs": [
        {
          "output_type": "stream",
          "name": "stdout",
          "text": [
            "[1, 2, 3, 4, 5, 6]\n"
          ]
        }
      ],
      "source": [
        "#Adding elements to a list using the addition operator\n",
        "a = [1, 2, 3]\n",
        "b = [4, 5, 6]\n",
        "a = a + b\n",
        "print(a)"
      ]
    },
    {
      "cell_type": "code",
      "execution_count": 21,
      "id": "ac7d2fca",
      "metadata": {
        "colab": {
          "base_uri": "https://localhost:8080/"
        },
        "id": "ac7d2fca",
        "outputId": "d5046cee-3555-40a4-c75a-99da75d6708f"
      },
      "outputs": [
        {
          "output_type": "execute_result",
          "data": {
            "text/plain": [
              "6"
            ]
          },
          "metadata": {},
          "execution_count": 21
        }
      ],
      "source": [
        "#Length of a list t\n",
        "len(t)"
      ]
    },
    {
      "cell_type": "code",
      "execution_count": null,
      "id": "a69ddede-ff7c-46fc-9d54-96281d95f64d",
      "metadata": {
        "id": "a69ddede-ff7c-46fc-9d54-96281d95f64d"
      },
      "outputs": [],
      "source": [
        "# the range() function\n",
        "for i in range(5):\n",
        "    print(i)"
      ]
    },
    {
      "cell_type": "code",
      "execution_count": 22,
      "id": "d55b77a4-7ac6-4cc7-b2ca-4285b3413d77",
      "metadata": {
        "colab": {
          "base_uri": "https://localhost:8080/"
        },
        "id": "d55b77a4-7ac6-4cc7-b2ca-4285b3413d77",
        "outputId": "9e17c492-507c-464a-b981-c58941fc5e4c"
      },
      "outputs": [
        {
          "output_type": "stream",
          "name": "stdout",
          "text": [
            "2\n",
            "3\n",
            "4\n"
          ]
        }
      ],
      "source": [
        "for i in range(2, 5):\n",
        "    print(i)"
      ]
    },
    {
      "cell_type": "code",
      "execution_count": null,
      "id": "b24e1ed4",
      "metadata": {
        "id": "b24e1ed4"
      },
      "outputs": [],
      "source": [
        "help(range)"
      ]
    },
    {
      "cell_type": "code",
      "execution_count": 23,
      "id": "75229e57",
      "metadata": {
        "colab": {
          "base_uri": "https://localhost:8080/"
        },
        "id": "75229e57",
        "outputId": "ced3c34c-1b8d-47cb-cac5-eedf110d2fcf"
      },
      "outputs": [
        {
          "output_type": "stream",
          "name": "stdout",
          "text": [
            "[34, 10]\n"
          ]
        }
      ],
      "source": [
        "#Updading ALL elements in a list using a for loop\n",
        "numbers = [17,5]\n",
        "for i in range(len(numbers)):\n",
        "    numbers[i] = numbers[i] * 2\n",
        "print(numbers)"
      ]
    },
    {
      "cell_type": "code",
      "execution_count": 24,
      "id": "c268ea86",
      "metadata": {
        "colab": {
          "base_uri": "https://localhost:8080/"
        },
        "id": "c268ea86",
        "outputId": "d6f0734f-8287-4164-d57e-982af4df3bc4"
      },
      "outputs": [
        {
          "output_type": "stream",
          "name": "stdout",
          "text": [
            "range(0, 3)\n"
          ]
        }
      ],
      "source": [
        "#The range object\n",
        "print(range(3))"
      ]
    },
    {
      "cell_type": "code",
      "execution_count": 27,
      "id": "4d0c48b5",
      "metadata": {
        "colab": {
          "base_uri": "https://localhost:8080/"
        },
        "id": "4d0c48b5",
        "outputId": "28e349d7-d5b4-48fa-cfee-e78f24b336dd"
      },
      "outputs": [
        {
          "output_type": "stream",
          "name": "stdout",
          "text": [
            "[0, 1, 2]\n"
          ]
        }
      ],
      "source": [
        "#To convert the range object to a list\n",
        "print(list(range(3)))"
      ]
    },
    {
      "cell_type": "markdown",
      "id": "3f399a80",
      "metadata": {
        "id": "3f399a80"
      },
      "source": [
        "### 1.3.2 List methods"
      ]
    },
    {
      "cell_type": "code",
      "execution_count": 26,
      "id": "002651cd",
      "metadata": {
        "colab": {
          "base_uri": "https://localhost:8080/"
        },
        "id": "002651cd",
        "outputId": "b5492c31-7e82-4275-f4cc-8d5a4a29eda0"
      },
      "outputs": [
        {
          "output_type": "execute_result",
          "data": {
            "text/plain": [
              "2"
            ]
          },
          "metadata": {},
          "execution_count": 26
        }
      ],
      "source": [
        "#Check the index of 'e' using index()\n",
        "t = ['d', 'c', 'e', 'b', 'a']\n",
        "t.index('e')"
      ]
    },
    {
      "cell_type": "code",
      "execution_count": 25,
      "id": "178747da",
      "metadata": {
        "colab": {
          "base_uri": "https://localhost:8080/"
        },
        "id": "178747da",
        "outputId": "96840765-14fd-4059-93aa-6367166a7f4e"
      },
      "outputs": [
        {
          "output_type": "execute_result",
          "data": {
            "text/plain": [
              "4"
            ]
          },
          "metadata": {},
          "execution_count": 25
        }
      ],
      "source": [
        "#Check the index of 'e' using index()\n",
        "a = 'abcdefg'\n",
        "a.index('e')"
      ]
    },
    {
      "cell_type": "markdown",
      "id": "645b13d7-73ea-4ebb-bbb4-11a4839caf0b",
      "metadata": {
        "id": "645b13d7-73ea-4ebb-bbb4-11a4839caf0b"
      },
      "source": [
        "### 1.3.3 Manipulating a list using list methods"
      ]
    },
    {
      "cell_type": "code",
      "execution_count": 28,
      "id": "a30f9474",
      "metadata": {
        "colab": {
          "base_uri": "https://localhost:8080/"
        },
        "id": "a30f9474",
        "outputId": "209b6b03-0f25-4b41-9e12-2869b207ff1c"
      },
      "outputs": [
        {
          "output_type": "stream",
          "name": "stdout",
          "text": [
            "['a', 'b', 'c', 'd']\n"
          ]
        }
      ],
      "source": [
        "#Append 'd' to the end of the list t\n",
        "t = ['a', 'b', 'c']\n",
        "t.append('d')\n",
        "print(t)"
      ]
    },
    {
      "cell_type": "code",
      "execution_count": 29,
      "id": "7f25f893",
      "metadata": {
        "colab": {
          "base_uri": "https://localhost:8080/"
        },
        "id": "7f25f893",
        "outputId": "6be898bf-0884-437a-82f0-f3b0a27918bf"
      },
      "outputs": [
        {
          "output_type": "stream",
          "name": "stdout",
          "text": [
            "t1: \n",
            " ['a', 'b', 'c', 'd', 'e']\n",
            "t2: \n",
            " ['d', 'e']\n"
          ]
        }
      ],
      "source": [
        "#Append all of the elements in t2 to t1\n",
        "t1 = ['a', 'b', 'c']\n",
        "t2 = ['d', 'e']\n",
        "t1.extend(t2)\n",
        "print('t1: \\n', t1)\n",
        "# This example leaves t2 unmodified\n",
        "print('t2: \\n', t2)"
      ]
    },
    {
      "cell_type": "code",
      "execution_count": null,
      "id": "9b8b9f71",
      "metadata": {
        "id": "9b8b9f71"
      },
      "outputs": [],
      "source": [
        "#Sort the list t in an alphabetical order\n",
        "t = ['d', 'c', 'e', 'b', 'a']\n",
        "t.sort()\n",
        "print(t)"
      ]
    },
    {
      "cell_type": "code",
      "execution_count": null,
      "id": "65246b7b",
      "metadata": {
        "id": "65246b7b"
      },
      "outputs": [],
      "source": [
        "# Sort the list b in a descending order\n",
        "b = [1,8,3,6,10,2]\n",
        "b.sort(reverse = True)\n",
        "print(b)"
      ]
    },
    {
      "cell_type": "code",
      "execution_count": null,
      "id": "866e05f2",
      "metadata": {
        "scrolled": true,
        "id": "866e05f2"
      },
      "outputs": [],
      "source": [
        "#The sort method sorts a list *in place*\n",
        "#In other words, it does not return a new sorted list.\n",
        "b = [1,8,3,6,10,2]\n",
        "b.sort()\n",
        "b_sorted = b.sort()\n",
        "print('b1: \\n', b)\n",
        "print('b2: \\n', b_sorted)"
      ]
    },
    {
      "cell_type": "code",
      "execution_count": null,
      "id": "13b16f06",
      "metadata": {
        "id": "13b16f06"
      },
      "outputs": [],
      "source": [
        "#You could check the meaning of different methods on different types of objects using help().\n",
        "help(str.strip)"
      ]
    },
    {
      "cell_type": "code",
      "execution_count": null,
      "id": "3b236321",
      "metadata": {
        "id": "3b236321"
      },
      "outputs": [],
      "source": [
        "#NOT ALL methods modify the list *in place*. This could be tricky.\n",
        "t1 = '    abc    d    '\n",
        "t2 = t1.strip()\n",
        "print(t1)\n",
        "print(t2)"
      ]
    },
    {
      "cell_type": "code",
      "execution_count": null,
      "id": "d354a459",
      "metadata": {
        "id": "d354a459"
      },
      "outputs": [],
      "source": [
        "#The original list is not modified\n",
        "for char in t1:\n",
        "    print(char)"
      ]
    },
    {
      "cell_type": "code",
      "execution_count": null,
      "id": "44c6c5de",
      "metadata": {
        "id": "44c6c5de"
      },
      "outputs": [],
      "source": [
        "#Check the stripped list t\n",
        "for char in t2:\n",
        "    print(char)"
      ]
    },
    {
      "cell_type": "code",
      "execution_count": null,
      "id": "abff5334",
      "metadata": {
        "id": "abff5334"
      },
      "outputs": [],
      "source": [
        "#store the removed element 'b' when you know its index\n",
        "t = ['a', 'b', 'c', 'd', 'e', 'f']\n",
        "x = t.pop(1)\n",
        "print(t)\n",
        "print(x)"
      ]
    },
    {
      "cell_type": "code",
      "execution_count": null,
      "id": "156296a7",
      "metadata": {
        "id": "156296a7"
      },
      "outputs": [],
      "source": [
        "#Remove 'b' by using the remove method\n",
        "t = ['a', 'b', 'c', 'd', 'e', 'f']\n",
        "t.remove('b')\n",
        "print(t)"
      ]
    },
    {
      "cell_type": "markdown",
      "id": "0f039574",
      "metadata": {
        "id": "0f039574"
      },
      "source": [
        "## 1.4 Objects and values"
      ]
    },
    {
      "cell_type": "code",
      "execution_count": null,
      "id": "e4a69516",
      "metadata": {
        "id": "e4a69516"
      },
      "outputs": [],
      "source": [
        "# Two different objects with the same value\n",
        "a = [1, 2, 3]\n",
        "b = [1, 2, 3]\n",
        "print(a is b)\n",
        "print('id of a is', id(a))\n",
        "print('id of b is', id(b))"
      ]
    },
    {
      "cell_type": "code",
      "execution_count": null,
      "id": "a7e0a0d6",
      "metadata": {
        "id": "a7e0a0d6"
      },
      "outputs": [],
      "source": [
        "# The same object\n",
        "a = [1, 2, 3]\n",
        "b = a\n",
        "a is b\n",
        "print('id of a is',id(a))\n",
        "print('id of b is',id(b))\n",
        "print(id(a) == id(b))"
      ]
    },
    {
      "cell_type": "code",
      "execution_count": null,
      "id": "08c14031",
      "metadata": {
        "id": "08c14031"
      },
      "outputs": [],
      "source": [
        "help(id)"
      ]
    },
    {
      "cell_type": "code",
      "execution_count": null,
      "id": "26a9e375",
      "metadata": {
        "id": "26a9e375"
      },
      "outputs": [],
      "source": [
        "print(b)\n",
        "b[1] = 'apple'\n",
        "print(a)"
      ]
    },
    {
      "cell_type": "code",
      "execution_count": null,
      "id": "65427618",
      "metadata": {
        "id": "65427618"
      },
      "outputs": [],
      "source": [
        "#To avoid aliasing an immutable object by creating a copy - 1\n",
        "a = [1, 2, 3]\n",
        "b = list(a)\n",
        "print(id(a))\n",
        "print(id(b))\n",
        "b[1] = 'apple'\n",
        "print(a,b)"
      ]
    },
    {
      "cell_type": "code",
      "execution_count": null,
      "id": "9e51e638",
      "metadata": {
        "id": "9e51e638"
      },
      "outputs": [],
      "source": [
        "#To avoid aliasing an immutable object by creating a copy - 2\n",
        "a = [1, 2, 3]\n",
        "b = a[:]\n",
        "print(id(a))\n",
        "print(id(b))\n",
        "b[1] = 'apple'\n",
        "print(a,b)"
      ]
    },
    {
      "cell_type": "code",
      "execution_count": null,
      "id": "c69891bc",
      "metadata": {
        "id": "c69891bc"
      },
      "outputs": [],
      "source": [
        "#Sting is an immutable object\n",
        "a = 'hello'\n",
        "b = a\n",
        "b = 'world'\n",
        "\n",
        "print('a:', a)\n",
        "print('b:', b)"
      ]
    },
    {
      "cell_type": "markdown",
      "id": "a7e90227-a411-49f3-9106-53cead2842d5",
      "metadata": {
        "id": "a7e90227-a411-49f3-9106-53cead2842d5"
      },
      "source": [
        "# 2. Set"
      ]
    },
    {
      "cell_type": "code",
      "execution_count": null,
      "id": "437f96b7-67f0-4e11-aa59-71f4c2ab9eee",
      "metadata": {
        "id": "437f96b7-67f0-4e11-aa59-71f4c2ab9eee"
      },
      "outputs": [],
      "source": [
        "animals = {'cat', 'dog'}\n",
        "# Check if an element is in a set\n",
        "print('cat' in animals)\n",
        "print('fish' in animals)"
      ]
    },
    {
      "cell_type": "markdown",
      "id": "b1b71322",
      "metadata": {
        "id": "b1b71322"
      },
      "source": [
        "# 3. Dictionary"
      ]
    },
    {
      "cell_type": "code",
      "execution_count": null,
      "id": "3afd902b",
      "metadata": {
        "id": "3afd902b"
      },
      "outputs": [],
      "source": [
        "#To find the Spanish of the English word 'two'\n",
        "eng = ['one', 'two', 'three']\n",
        "sp = ['uno', 'dos','tres']\n",
        "Ind_2 = eng.index('two')\n",
        "sp[Ind_2]"
      ]
    },
    {
      "cell_type": "code",
      "execution_count": null,
      "id": "7b4596a6",
      "metadata": {
        "id": "7b4596a6"
      },
      "outputs": [],
      "source": [
        "eng2sp = {'one': 'uno', 'two': 'dos', 'three': 'tres'}"
      ]
    },
    {
      "cell_type": "code",
      "execution_count": null,
      "id": "3265785f",
      "metadata": {
        "id": "3265785f"
      },
      "outputs": [],
      "source": [
        "#Check the type of eng2sp\n",
        "type(eng2sp)"
      ]
    },
    {
      "cell_type": "code",
      "execution_count": null,
      "id": "5a6445a7",
      "metadata": {
        "id": "5a6445a7"
      },
      "outputs": [],
      "source": [
        "#input the key 'two', get the corresponding value\n",
        "eng2sp['two']"
      ]
    },
    {
      "cell_type": "code",
      "execution_count": null,
      "id": "25e37ca1",
      "metadata": {
        "id": "25e37ca1"
      },
      "outputs": [],
      "source": [
        "#Check whether 'one' is a key of eng2sp\n",
        "'one' in eng2sp"
      ]
    },
    {
      "cell_type": "code",
      "execution_count": null,
      "id": "7877c41b",
      "metadata": {
        "id": "7877c41b"
      },
      "outputs": [],
      "source": [
        "#Is 'uno' is a key?\n",
        "'uno' in eng2sp"
      ]
    },
    {
      "cell_type": "code",
      "execution_count": null,
      "id": "d9280b11",
      "metadata": {
        "id": "d9280b11"
      },
      "outputs": [],
      "source": [
        "# 'uno' is a value\n",
        "'uno' in list(eng2sp.values())"
      ]
    },
    {
      "cell_type": "code",
      "execution_count": null,
      "id": "e69365c6",
      "metadata": {
        "id": "e69365c6"
      },
      "outputs": [],
      "source": [
        "#length of a dictionary\n",
        "len(eng2sp)"
      ]
    },
    {
      "cell_type": "code",
      "execution_count": null,
      "id": "f6497152",
      "metadata": {
        "id": "f6497152"
      },
      "outputs": [],
      "source": [
        "print(eng2sp['four'])"
      ]
    },
    {
      "cell_type": "code",
      "execution_count": null,
      "id": "fd4e027c",
      "metadata": {
        "id": "fd4e027c"
      },
      "outputs": [],
      "source": [
        "dict = {(1,2,3):3}\n",
        "print(dict)"
      ]
    },
    {
      "cell_type": "markdown",
      "id": "e20a5c97",
      "metadata": {
        "id": "e20a5c97"
      },
      "source": [
        "# 4. Tuples"
      ]
    },
    {
      "cell_type": "code",
      "execution_count": null,
      "id": "87ee2349",
      "metadata": {
        "id": "87ee2349"
      },
      "outputs": [],
      "source": [
        "t = ('a', 'b', 'c', 'd', 'e' )\n",
        "type(t)"
      ]
    },
    {
      "cell_type": "code",
      "execution_count": null,
      "id": "e5d17422",
      "metadata": {
        "id": "e5d17422"
      },
      "outputs": [],
      "source": [
        "#Be careful ! comma at the end\n",
        "t1 = ('a',)\n",
        "print(t1)\n",
        "print(type(t1))"
      ]
    },
    {
      "cell_type": "code",
      "execution_count": null,
      "id": "1fd1d549",
      "metadata": {
        "id": "1fd1d549"
      },
      "outputs": [],
      "source": [
        "#Find the type of t2\n",
        "t2 = ('a')\n",
        "type(t2)"
      ]
    },
    {
      "cell_type": "code",
      "execution_count": null,
      "id": "3506383c",
      "metadata": {
        "id": "3506383c"
      },
      "outputs": [],
      "source": [
        "#access the first element of tuple using index\n",
        "t = tuple('abcde')\n",
        "print(t[0])"
      ]
    },
    {
      "cell_type": "code",
      "execution_count": null,
      "id": "655fa556",
      "metadata": {
        "id": "655fa556"
      },
      "outputs": [],
      "source": [
        "#access the second and third elements of t using slicing\n",
        "print(t[1:3])"
      ]
    },
    {
      "cell_type": "code",
      "execution_count": null,
      "id": "472a0f51",
      "metadata": {
        "id": "472a0f51"
      },
      "outputs": [],
      "source": [
        "#Tuple is immutable\n",
        "t[0] = 'A'"
      ]
    }
  ],
  "metadata": {
    "kernelspec": {
      "display_name": "Python 3 (ipykernel)",
      "language": "python",
      "name": "python3"
    },
    "language_info": {
      "codemirror_mode": {
        "name": "ipython",
        "version": 3
      },
      "file_extension": ".py",
      "mimetype": "text/x-python",
      "name": "python",
      "nbconvert_exporter": "python",
      "pygments_lexer": "ipython3",
      "version": "3.12.4"
    },
    "colab": {
      "provenance": [],
      "include_colab_link": true
    }
  },
  "nbformat": 4,
  "nbformat_minor": 5
}