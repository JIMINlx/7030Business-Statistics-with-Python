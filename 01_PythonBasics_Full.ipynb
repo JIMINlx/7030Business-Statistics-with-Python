{
  "cells": [
    {
      "cell_type": "markdown",
      "metadata": {
        "id": "view-in-github",
        "colab_type": "text"
      },
      "source": [
        "<a href=\"https://colab.research.google.com/github/JIMINlx/7030Business-Statistics-with-Python/blob/main/01_PythonBasics_Full.ipynb\" target=\"_parent\"><img src=\"https://colab.research.google.com/assets/colab-badge.svg\" alt=\"Open In Colab\"/></a>"
      ]
    },
    {
      "cell_type": "markdown",
      "id": "3a7f1a8e",
      "metadata": {
        "id": "3a7f1a8e"
      },
      "source": [
        "# Values and Types"
      ]
    },
    {
      "cell_type": "code",
      "execution_count": null,
      "id": "382fb4d1",
      "metadata": {
        "id": "382fb4d1"
      },
      "outputs": [],
      "source": [
        "# print 'Hello World'"
      ]
    },
    {
      "cell_type": "code",
      "execution_count": null,
      "id": "623f64e8",
      "metadata": {
        "id": "623f64e8",
        "outputId": "a010ce6b-c316-44d2-8fd9-56e8751da62c"
      },
      "outputs": [
        {
          "name": "stdout",
          "output_type": "stream",
          "text": [
            "3.2\n"
          ]
        }
      ],
      "source": [
        "print(3.2)"
      ]
    },
    {
      "cell_type": "code",
      "execution_count": null,
      "id": "93157b75",
      "metadata": {
        "id": "93157b75",
        "outputId": "3a01681d-679d-41ab-e897-6d99bd1c34fb"
      },
      "outputs": [
        {
          "name": "stdout",
          "output_type": "stream",
          "text": [
            "True\n"
          ]
        }
      ],
      "source": [
        "print(True)"
      ]
    },
    {
      "cell_type": "code",
      "execution_count": null,
      "id": "0c304a97",
      "metadata": {
        "id": "0c304a97",
        "outputId": "e70cac48-36be-4998-d653-396ca44badaa"
      },
      "outputs": [
        {
          "data": {
            "text/plain": [
              "int"
            ]
          },
          "execution_count": 4,
          "metadata": {},
          "output_type": "execute_result"
        }
      ],
      "source": [
        "type(4)"
      ]
    },
    {
      "cell_type": "code",
      "execution_count": null,
      "id": "bc2071dc",
      "metadata": {
        "id": "bc2071dc",
        "outputId": "3cb9aa01-9e14-4076-d329-be2f15ec67c6"
      },
      "outputs": [
        {
          "data": {
            "text/plain": [
              "float"
            ]
          },
          "execution_count": 5,
          "metadata": {},
          "output_type": "execute_result"
        }
      ],
      "source": [
        "type(3.2)"
      ]
    },
    {
      "cell_type": "code",
      "execution_count": null,
      "id": "3e2e2451",
      "metadata": {
        "id": "3e2e2451",
        "outputId": "f8b35c9f-c63e-4b2b-d695-2cf80c674c5c"
      },
      "outputs": [
        {
          "data": {
            "text/plain": [
              "str"
            ]
          },
          "execution_count": 6,
          "metadata": {},
          "output_type": "execute_result"
        }
      ],
      "source": [
        "type(\"Hello World\")"
      ]
    },
    {
      "cell_type": "code",
      "execution_count": null,
      "id": "9a8902a2",
      "metadata": {
        "id": "9a8902a2",
        "outputId": "d75ed33b-c53f-4dde-e735-ecbc770fc4b8"
      },
      "outputs": [
        {
          "data": {
            "text/plain": [
              "bool"
            ]
          },
          "execution_count": 7,
          "metadata": {},
          "output_type": "execute_result"
        }
      ],
      "source": [
        "type(True)"
      ]
    },
    {
      "cell_type": "markdown",
      "id": "63581a65",
      "metadata": {
        "id": "63581a65"
      },
      "source": [
        "# Variables"
      ]
    },
    {
      "cell_type": "code",
      "execution_count": null,
      "id": "9d88b8e5",
      "metadata": {
        "id": "9d88b8e5",
        "outputId": "103aa4bf-8042-4eb7-eccc-59d8a85e013f"
      },
      "outputs": [
        {
          "name": "stdout",
          "output_type": "stream",
          "text": [
            "And now for something completely different\n",
            "17\n",
            "18\n",
            "3.14\n"
          ]
        }
      ],
      "source": [
        "message = 'And now for something completely different'\n",
        "n = 17\n",
        "N = 18\n",
        "pi = 3.14\n",
        "print(message)\n",
        "print(n)\n",
        "print(N)\n",
        "print(pi)"
      ]
    },
    {
      "cell_type": "markdown",
      "id": "a62c7186",
      "metadata": {
        "id": "a62c7186"
      },
      "source": [
        "# Variable names"
      ]
    },
    {
      "cell_type": "code",
      "execution_count": null,
      "id": "f001e280",
      "metadata": {
        "id": "f001e280",
        "outputId": "56687309-bf00-4fb5-ec59-c4868ae016d5"
      },
      "outputs": [
        {
          "ename": "SyntaxError",
          "evalue": "invalid decimal literal (3789015704.py, line 1)",
          "output_type": "error",
          "traceback": [
            "\u001b[1;36m  Cell \u001b[1;32mIn[9], line 1\u001b[1;36m\u001b[0m\n\u001b[1;33m    76abc = 'a'\u001b[0m\n\u001b[1;37m     ^\u001b[0m\n\u001b[1;31mSyntaxError\u001b[0m\u001b[1;31m:\u001b[0m invalid decimal literal\n"
          ]
        }
      ],
      "source": [
        "76abc = 'a'"
      ]
    },
    {
      "cell_type": "code",
      "execution_count": null,
      "id": "9292ca66",
      "metadata": {
        "id": "9292ca66",
        "outputId": "e130506c-1abf-4bf2-9ced-321b57e40149"
      },
      "outputs": [
        {
          "ename": "FileNotFoundError",
          "evalue": "[Errno 2] No such file or directory: '@ = 1000'",
          "output_type": "error",
          "traceback": [
            "\u001b[1;31m---------------------------------------------------------------------------\u001b[0m",
            "\u001b[1;31mFileNotFoundError\u001b[0m                         Traceback (most recent call last)",
            "Cell \u001b[1;32mIn[10], line 1\u001b[0m\n\u001b[1;32m----> 1\u001b[0m get_ipython()\u001b[38;5;241m.\u001b[39mrun_line_magic(\u001b[38;5;124m'\u001b[39m\u001b[38;5;124mmore\u001b[39m\u001b[38;5;124m'\u001b[39m, \u001b[38;5;124m'\u001b[39m\u001b[38;5;124m@ = 1000\u001b[39m\u001b[38;5;124m'\u001b[39m)\n",
            "File \u001b[1;32m~\\AppData\\Local\\anaconda3\\Lib\\site-packages\\IPython\\core\\interactiveshell.py:2414\u001b[0m, in \u001b[0;36mInteractiveShell.run_line_magic\u001b[1;34m(self, magic_name, line, _stack_depth)\u001b[0m\n\u001b[0;32m   2412\u001b[0m     kwargs[\u001b[38;5;124m'\u001b[39m\u001b[38;5;124mlocal_ns\u001b[39m\u001b[38;5;124m'\u001b[39m] \u001b[38;5;241m=\u001b[39m \u001b[38;5;28mself\u001b[39m\u001b[38;5;241m.\u001b[39mget_local_scope(stack_depth)\n\u001b[0;32m   2413\u001b[0m \u001b[38;5;28;01mwith\u001b[39;00m \u001b[38;5;28mself\u001b[39m\u001b[38;5;241m.\u001b[39mbuiltin_trap:\n\u001b[1;32m-> 2414\u001b[0m     result \u001b[38;5;241m=\u001b[39m fn(\u001b[38;5;241m*\u001b[39margs, \u001b[38;5;241m*\u001b[39m\u001b[38;5;241m*\u001b[39mkwargs)\n\u001b[0;32m   2416\u001b[0m \u001b[38;5;66;03m# The code below prevents the output from being displayed\u001b[39;00m\n\u001b[0;32m   2417\u001b[0m \u001b[38;5;66;03m# when using magics with decodator @output_can_be_silenced\u001b[39;00m\n\u001b[0;32m   2418\u001b[0m \u001b[38;5;66;03m# when the last Python token in the expression is a ';'.\u001b[39;00m\n\u001b[0;32m   2419\u001b[0m \u001b[38;5;28;01mif\u001b[39;00m \u001b[38;5;28mgetattr\u001b[39m(fn, magic\u001b[38;5;241m.\u001b[39mMAGIC_OUTPUT_CAN_BE_SILENCED, \u001b[38;5;28;01mFalse\u001b[39;00m):\n",
            "File \u001b[1;32m~\\AppData\\Local\\anaconda3\\Lib\\site-packages\\ipykernel\\zmqshell.py:328\u001b[0m, in \u001b[0;36mKernelMagics.less\u001b[1;34m(self, arg_s)\u001b[0m\n\u001b[0;32m    326\u001b[0m     cont \u001b[38;5;241m=\u001b[39m \u001b[38;5;28mself\u001b[39m\u001b[38;5;241m.\u001b[39mshell\u001b[38;5;241m.\u001b[39mpycolorize(openpy\u001b[38;5;241m.\u001b[39mread_py_file(arg_s, skip_encoding_cookie\u001b[38;5;241m=\u001b[39m\u001b[38;5;28;01mFalse\u001b[39;00m))\n\u001b[0;32m    327\u001b[0m \u001b[38;5;28;01melse\u001b[39;00m:\n\u001b[1;32m--> 328\u001b[0m     \u001b[38;5;28;01mwith\u001b[39;00m \u001b[38;5;28mopen\u001b[39m(arg_s) \u001b[38;5;28;01mas\u001b[39;00m fid:\n\u001b[0;32m    329\u001b[0m         cont \u001b[38;5;241m=\u001b[39m fid\u001b[38;5;241m.\u001b[39mread()\n\u001b[0;32m    330\u001b[0m page\u001b[38;5;241m.\u001b[39mpage(cont)\n",
            "\u001b[1;31mFileNotFoundError\u001b[0m: [Errno 2] No such file or directory: '@ = 1000'"
          ]
        }
      ],
      "source": [
        "more@ = 1000"
      ]
    },
    {
      "cell_type": "code",
      "execution_count": null,
      "id": "b5a19f08",
      "metadata": {
        "id": "b5a19f08",
        "outputId": "4fbfcbd9-be6d-4aa6-ae68-bbf7fc5c84f0"
      },
      "outputs": [
        {
          "ename": "SyntaxError",
          "evalue": "invalid syntax (2472798967.py, line 1)",
          "output_type": "error",
          "traceback": [
            "\u001b[1;36m  Cell \u001b[1;32mIn[11], line 1\u001b[1;36m\u001b[0m\n\u001b[1;33m    class = 'abc'\u001b[0m\n\u001b[1;37m          ^\u001b[0m\n\u001b[1;31mSyntaxError\u001b[0m\u001b[1;31m:\u001b[0m invalid syntax\n"
          ]
        }
      ],
      "source": [
        "class = 'abc'"
      ]
    },
    {
      "cell_type": "markdown",
      "id": "63e3d619",
      "metadata": {
        "id": "63e3d619"
      },
      "source": [
        "# Operators and operands"
      ]
    },
    {
      "cell_type": "code",
      "execution_count": null,
      "id": "8216a3c0",
      "metadata": {
        "id": "8216a3c0",
        "outputId": "20beadc5-84eb-4c87-d6a9-a6847d8f174c"
      },
      "outputs": [
        {
          "data": {
            "text/plain": [
              "49"
            ]
          },
          "execution_count": 12,
          "metadata": {},
          "output_type": "execute_result"
        }
      ],
      "source": [
        "7**2"
      ]
    },
    {
      "cell_type": "code",
      "execution_count": null,
      "id": "bb345fee",
      "metadata": {
        "id": "bb345fee",
        "outputId": "92a26415-7a28-4177-bb72-f6068bf27dba"
      },
      "outputs": [
        {
          "data": {
            "text/plain": [
              "5"
            ]
          },
          "execution_count": 13,
          "metadata": {},
          "output_type": "execute_result"
        }
      ],
      "source": [
        "7^2"
      ]
    },
    {
      "cell_type": "code",
      "execution_count": null,
      "id": "644c3920",
      "metadata": {
        "id": "644c3920",
        "outputId": "a8f81e00-b257-4b78-e58a-e462cd5776db"
      },
      "outputs": [
        {
          "data": {
            "text/plain": [
              "1"
            ]
          },
          "execution_count": 14,
          "metadata": {},
          "output_type": "execute_result"
        }
      ],
      "source": [
        "#The modulo operator\n",
        "7%2"
      ]
    },
    {
      "cell_type": "code",
      "execution_count": null,
      "id": "8804a44a",
      "metadata": {
        "id": "8804a44a",
        "outputId": "9ab0504a-4f85-41a4-cc50-28dfc2c74ccd"
      },
      "outputs": [
        {
          "data": {
            "text/plain": [
              "1.5"
            ]
          },
          "execution_count": 15,
          "metadata": {},
          "output_type": "execute_result"
        }
      ],
      "source": [
        "7.5%2"
      ]
    },
    {
      "cell_type": "code",
      "execution_count": null,
      "id": "b76841b0",
      "metadata": {
        "id": "b76841b0",
        "outputId": "17319ba2-c0a5-4b2e-c3ab-b7f36a3aa19c"
      },
      "outputs": [
        {
          "data": {
            "text/plain": [
              "3"
            ]
          },
          "execution_count": 16,
          "metadata": {},
          "output_type": "execute_result"
        }
      ],
      "source": [
        "#The floor division operator\n",
        "7//2"
      ]
    },
    {
      "cell_type": "code",
      "execution_count": null,
      "id": "63acc42b",
      "metadata": {
        "id": "63acc42b",
        "outputId": "457254dc-ee48-4362-d393-f25ba0391dea"
      },
      "outputs": [
        {
          "data": {
            "text/plain": [
              "-4"
            ]
          },
          "execution_count": 17,
          "metadata": {},
          "output_type": "execute_result"
        }
      ],
      "source": [
        "-7//2"
      ]
    },
    {
      "cell_type": "markdown",
      "id": "0c12c372",
      "metadata": {
        "id": "0c12c372"
      },
      "source": [
        "# Exercise"
      ]
    },
    {
      "cell_type": "markdown",
      "id": "93e757a1",
      "metadata": {
        "id": "93e757a1"
      },
      "source": [
        "To calculate BMI using the formula $BMI=\\frac{weight}{height^2}$. <br> 1. Assign 66.2 to a variable called 'weight'.  <br> 2. Assign 1.7 to a variable called 'height'. <br> 3. Calculate the BMI of this individual using the formula above. <br> 4. Print the value of BMI of this individual."
      ]
    },
    {
      "cell_type": "code",
      "execution_count": null,
      "id": "ffc580fb",
      "metadata": {
        "id": "ffc580fb",
        "outputId": "0677ff53-a676-43d1-c046-85e1cf9e70d3"
      },
      "outputs": [
        {
          "name": "stdout",
          "output_type": "stream",
          "text": [
            "22.9066\n"
          ]
        }
      ],
      "source": [
        "weight = 66.2\n",
        "height = 1.7\n",
        "BMI = weight / height ** 2\n",
        "print(round(BMI,4))"
      ]
    },
    {
      "cell_type": "markdown",
      "id": "89a7ff3a",
      "metadata": {
        "id": "89a7ff3a"
      },
      "source": [
        "# String operations"
      ]
    },
    {
      "cell_type": "code",
      "execution_count": null,
      "id": "e0f713fa",
      "metadata": {
        "id": "e0f713fa",
        "outputId": "539cf5d3-6740-420a-9a27-2589f6bec9ed"
      },
      "outputs": [
        {
          "name": "stdout",
          "output_type": "stream",
          "text": [
            "25\n"
          ]
        }
      ],
      "source": [
        "first = 10\n",
        "second = 15\n",
        "# Find the sum of first and second\n",
        "print(first + second)"
      ]
    },
    {
      "cell_type": "code",
      "execution_count": null,
      "id": "f78ae76c",
      "metadata": {
        "id": "f78ae76c",
        "outputId": "1998e012-9659-4cfa-ac14-37dfa3e57248"
      },
      "outputs": [
        {
          "name": "stdout",
          "output_type": "stream",
          "text": [
            "1015\n"
          ]
        }
      ],
      "source": [
        "first = \"10\"\n",
        "second = \"15\"\n",
        "# Paste the two variables together\n",
        "print(first + second)"
      ]
    },
    {
      "cell_type": "code",
      "execution_count": null,
      "id": "f4a4ff99",
      "metadata": {
        "id": "f4a4ff99",
        "outputId": "d1486943-d446-420f-d72c-41525780a231"
      },
      "outputs": [
        {
          "name": "stdout",
          "output_type": "stream",
          "text": [
            "1010101010\n"
          ]
        }
      ],
      "source": [
        "first = \"10\"\n",
        "second = 5\n",
        "print(first * second)"
      ]
    },
    {
      "cell_type": "markdown",
      "id": "f467d4a2",
      "metadata": {
        "id": "f467d4a2"
      },
      "source": [
        "For different type of data, the operator works differently."
      ]
    },
    {
      "cell_type": "markdown",
      "id": "6daf2c4c",
      "metadata": {
        "id": "6daf2c4c"
      },
      "source": [
        "# Asking for input"
      ]
    },
    {
      "cell_type": "code",
      "execution_count": null,
      "id": "3ae0b3b5",
      "metadata": {
        "id": "3ae0b3b5",
        "outputId": "b03ea611-f854-402e-b908-d4a64b9815df"
      },
      "outputs": [
        {
          "name": "stdout",
          "output_type": "stream",
          "text": [
            "a\n",
            "a\n"
          ]
        }
      ],
      "source": [
        "inp = input()\n",
        "print(inp)"
      ]
    },
    {
      "cell_type": "code",
      "execution_count": null,
      "id": "d3a7c753",
      "metadata": {
        "id": "d3a7c753",
        "outputId": "34aebfb8-f732-42ca-f6e8-7d7467d8d856"
      },
      "outputs": [
        {
          "name": "stdout",
          "output_type": "stream",
          "text": [
            "What is your name?\n",
            "a\n"
          ]
        }
      ],
      "source": [
        "name = input('What is your name?\\n')\n",
        "#print(name)"
      ]
    },
    {
      "cell_type": "code",
      "execution_count": null,
      "id": "9e7b021c",
      "metadata": {
        "id": "9e7b021c",
        "outputId": "a56b34cb-e16a-47d3-b2da-a48f9e9505cb"
      },
      "outputs": [
        {
          "data": {
            "text/plain": [
              "str"
            ]
          },
          "execution_count": 24,
          "metadata": {},
          "output_type": "execute_result"
        }
      ],
      "source": [
        "type(name)"
      ]
    },
    {
      "cell_type": "markdown",
      "id": "8e10c75f",
      "metadata": {
        "id": "8e10c75f"
      },
      "source": [
        "# Exercise"
      ]
    },
    {
      "cell_type": "code",
      "execution_count": null,
      "id": "c0ff0bc3",
      "metadata": {
        "id": "c0ff0bc3",
        "outputId": "905e19fa-d78d-4de2-8dd7-be10a7c6f69a"
      },
      "outputs": [
        {
          "name": "stdout",
          "output_type": "stream",
          "text": [
            "What is your name?\n",
            "a\n"
          ]
        }
      ],
      "source": [
        "#1\n",
        "name = input('What is your name?\\n')\n",
        "#print(\"Hello \" + name);"
      ]
    },
    {
      "cell_type": "code",
      "execution_count": null,
      "id": "cf922628",
      "metadata": {
        "id": "cf922628",
        "outputId": "9b9deee1-be9a-4e9c-f816-b7457ef41f4c"
      },
      "outputs": [
        {
          "name": "stdout",
          "output_type": "stream",
          "text": [
            "Enter Hours:\n",
            "35\n",
            "Enter rate:\n",
            "2.75\n",
            "Pay:\n",
            " 96.25\n"
          ]
        }
      ],
      "source": [
        "#2\n",
        "hours = input('Enter Hours:\\n')\n",
        "rate = input('Enter rate:\\n')\n",
        "pay = float(hours) * float(rate)\n",
        "print('Pay:\\n', pay)"
      ]
    },
    {
      "cell_type": "code",
      "execution_count": null,
      "id": "f01219ec",
      "metadata": {
        "id": "f01219ec",
        "outputId": "3a4b16ad-0a56-421b-9efc-051300de66cd"
      },
      "outputs": [
        {
          "name": "stdout",
          "output_type": "stream",
          "text": [
            "Enter Celsius:\n",
            "0\n",
            "Fahrenheit:\n",
            " 32.0\n"
          ]
        }
      ],
      "source": [
        "#3\n",
        "Celsius = input('Enter Celsius:\\n')\n",
        "F = (float(Celsius)*9/5)+32\n",
        "print('Fahrenheit:\\n', F)"
      ]
    },
    {
      "cell_type": "markdown",
      "id": "230c734b",
      "metadata": {
        "id": "230c734b"
      },
      "source": [
        "# Boolean expressions"
      ]
    },
    {
      "cell_type": "code",
      "execution_count": null,
      "id": "0f04d9d9",
      "metadata": {
        "id": "0f04d9d9",
        "outputId": "b5730a27-e64a-4814-db6f-90d8f7938028"
      },
      "outputs": [
        {
          "data": {
            "text/plain": [
              "False"
            ]
          },
          "execution_count": 28,
          "metadata": {},
          "output_type": "execute_result"
        }
      ],
      "source": [
        "5 == 6"
      ]
    },
    {
      "cell_type": "code",
      "execution_count": null,
      "id": "d9b05dd0",
      "metadata": {
        "id": "d9b05dd0",
        "outputId": "2e9bc88c-7d76-42c8-e275-18ad50c387e1"
      },
      "outputs": [
        {
          "ename": "NameError",
          "evalue": "name 'TRUE' is not defined",
          "output_type": "error",
          "traceback": [
            "\u001b[1;31m---------------------------------------------------------------------------\u001b[0m",
            "\u001b[1;31mNameError\u001b[0m                                 Traceback (most recent call last)",
            "Cell \u001b[1;32mIn[29], line 1\u001b[0m\n\u001b[1;32m----> 1\u001b[0m \u001b[38;5;28mtype\u001b[39m(TRUE)\n",
            "\u001b[1;31mNameError\u001b[0m: name 'TRUE' is not defined"
          ]
        }
      ],
      "source": [
        "type(TRUE)"
      ]
    },
    {
      "cell_type": "code",
      "execution_count": null,
      "id": "8eb8d39f",
      "metadata": {
        "id": "8eb8d39f",
        "outputId": "10c53dc4-114e-4c20-e634-0b32af3831af"
      },
      "outputs": [
        {
          "data": {
            "text/plain": [
              "bool"
            ]
          },
          "execution_count": 55,
          "metadata": {},
          "output_type": "execute_result"
        }
      ],
      "source": [
        "type(True)"
      ]
    },
    {
      "cell_type": "markdown",
      "id": "3ab5e3ae",
      "metadata": {
        "id": "3ab5e3ae"
      },
      "source": [
        "# Logical operators"
      ]
    },
    {
      "cell_type": "code",
      "execution_count": null,
      "id": "e6365c64",
      "metadata": {
        "id": "e6365c64",
        "outputId": "f26363a6-ffed-46c5-997f-1f49181dd739"
      },
      "outputs": [
        {
          "name": "stdout",
          "output_type": "stream",
          "text": [
            "True\n"
          ]
        }
      ],
      "source": [
        "x = 3\n",
        "print(x > 0  and x < 10)"
      ]
    },
    {
      "cell_type": "code",
      "execution_count": null,
      "id": "3a95d244",
      "metadata": {
        "id": "3a95d244",
        "outputId": "fa61220c-5f15-4ffc-8321-dafab217e216"
      },
      "outputs": [
        {
          "name": "stdout",
          "output_type": "stream",
          "text": [
            "True\n"
          ]
        }
      ],
      "source": [
        "n = 3\n",
        "print(n%2 == 0 or n%3 == 0)"
      ]
    },
    {
      "cell_type": "code",
      "execution_count": null,
      "id": "f93180dc",
      "metadata": {
        "id": "f93180dc",
        "outputId": "7bbff726-38ec-4a2e-95b7-c9edc1c1d143"
      },
      "outputs": [
        {
          "name": "stdout",
          "output_type": "stream",
          "text": [
            "True\n"
          ]
        }
      ],
      "source": [
        "print(17 and True)"
      ]
    },
    {
      "cell_type": "markdown",
      "id": "490bc2c2",
      "metadata": {
        "id": "490bc2c2"
      },
      "source": [
        "# Conditional execution"
      ]
    },
    {
      "cell_type": "code",
      "execution_count": null,
      "id": "cda920b3",
      "metadata": {
        "id": "cda920b3",
        "outputId": "e364e1dc-bf44-49ca-da5e-62f9687d46aa"
      },
      "outputs": [
        {
          "name": "stdout",
          "output_type": "stream",
          "text": [
            "x is positive\n"
          ]
        }
      ],
      "source": [
        "x = 10\n",
        "if x > 0:\n",
        "    print('x is positive')"
      ]
    },
    {
      "cell_type": "code",
      "execution_count": null,
      "id": "763eba66",
      "metadata": {
        "id": "763eba66"
      },
      "outputs": [],
      "source": [
        "x = -2\n",
        "if x < 0:\n",
        "    pass"
      ]
    },
    {
      "cell_type": "code",
      "execution_count": null,
      "id": "21cd96ab",
      "metadata": {
        "id": "21cd96ab",
        "outputId": "a6a38240-776a-4e34-86e0-883eb6ef64ed"
      },
      "outputs": [
        {
          "data": {
            "text/plain": [
              "'x is non-positive'"
            ]
          },
          "execution_count": 37,
          "metadata": {},
          "output_type": "execute_result"
        }
      ],
      "source": [
        "def pos(x):\n",
        "    if x > 0:\n",
        "        return 'x is positive'\n",
        "    else:\n",
        "        return 'x is non-positive'\n",
        "pos(-1)"
      ]
    },
    {
      "cell_type": "code",
      "execution_count": null,
      "id": "3cb3ef11",
      "metadata": {
        "id": "3cb3ef11",
        "outputId": "f0512641-3a7a-48b9-9c9a-994728a9f001"
      },
      "outputs": [
        {
          "data": {
            "text/plain": [
              "'x is even'"
            ]
          },
          "execution_count": 38,
          "metadata": {},
          "output_type": "execute_result"
        }
      ],
      "source": [
        "def evenodd(x):\n",
        "    if x % 2 == 0:\n",
        "        return 'x is even'\n",
        "    else:\n",
        "        return 'x is odd'\n",
        "evenodd(4)"
      ]
    },
    {
      "cell_type": "code",
      "execution_count": null,
      "id": "7c0405bc",
      "metadata": {
        "id": "7c0405bc"
      },
      "outputs": [],
      "source": [
        "#Chained conditions\n",
        "def comparison(x,y):\n",
        "    if x < y:\n",
        "        return 'x is less than y'\n",
        "    elif x > y:\n",
        "        return 'x is greater than y'\n",
        "    else:\n",
        "        return 'x and y are equal'"
      ]
    },
    {
      "cell_type": "code",
      "execution_count": null,
      "id": "374d4367",
      "metadata": {
        "id": "374d4367",
        "outputId": "800d7571-7763-454d-b219-38d220813a30"
      },
      "outputs": [
        {
          "data": {
            "text/plain": [
              "'x is less than y'"
            ]
          },
          "execution_count": 40,
          "metadata": {},
          "output_type": "execute_result"
        }
      ],
      "source": [
        "comparison(1,2)"
      ]
    },
    {
      "cell_type": "markdown",
      "id": "15f6f51f",
      "metadata": {
        "id": "15f6f51f"
      },
      "source": [
        "## Exercise"
      ]
    },
    {
      "cell_type": "code",
      "execution_count": null,
      "id": "02b1ce40",
      "metadata": {
        "id": "02b1ce40",
        "outputId": "45420d16-7bc6-498e-81bc-ed4351617538"
      },
      "outputs": [
        {
          "name": "stdout",
          "output_type": "stream",
          "text": [
            "Enter Hours:\n",
            "45\n",
            "Enter Rates:\n",
            "10\n",
            "475.0\n"
          ]
        }
      ],
      "source": [
        "hours = float(input('Enter Hours:\\n'))\n",
        "rate = float(input('Enter Rates:\\n'))\n",
        "\n",
        "if hours > 40:\n",
        "    pay = 1.5 * rate * (hours - 40) + rate * 40\n",
        "else:\n",
        "    pay = rate * hours\n",
        "print(pay)"
      ]
    },
    {
      "cell_type": "markdown",
      "id": "fcf9cfb3",
      "metadata": {
        "id": "fcf9cfb3"
      },
      "source": [
        "# Help!"
      ]
    },
    {
      "cell_type": "code",
      "execution_count": null,
      "id": "d292e27f",
      "metadata": {
        "id": "d292e27f",
        "outputId": "3dd650e4-93b7-4803-9b78-9ed31fbe041b"
      },
      "outputs": [
        {
          "name": "stdout",
          "output_type": "stream",
          "text": [
            "Help on built-in function pow in module builtins:\n",
            "\n",
            "pow(base, exp, mod=None)\n",
            "    Equivalent to base**exp with 2 arguments or base**exp % mod with 3 arguments\n",
            "    \n",
            "    Some types, such as ints, are able to use a more efficient algorithm when\n",
            "    invoked using the three argument form.\n",
            "\n"
          ]
        }
      ],
      "source": [
        "help(pow)"
      ]
    },
    {
      "cell_type": "markdown",
      "id": "5c534253",
      "metadata": {
        "id": "5c534253"
      },
      "source": [
        "# Data structure - List"
      ]
    },
    {
      "cell_type": "markdown",
      "id": "38466ce8",
      "metadata": {
        "id": "38466ce8"
      },
      "source": [
        "## Create a list"
      ]
    },
    {
      "cell_type": "code",
      "execution_count": null,
      "id": "14250f2f",
      "metadata": {
        "id": "14250f2f",
        "outputId": "35463206-4a2a-4368-c3bd-04a3da1a5bde"
      },
      "outputs": [
        {
          "name": "stdout",
          "output_type": "stream",
          "text": [
            "[10, 20, 30, 40]\n",
            "['abc', 'def', 'ghi']\n"
          ]
        }
      ],
      "source": [
        "print([10, 20, 30, 40])\n",
        "print(['abc', 'def', 'ghi'])"
      ]
    },
    {
      "cell_type": "code",
      "execution_count": null,
      "id": "1c95c6de",
      "metadata": {
        "id": "1c95c6de",
        "outputId": "7c208817-78f5-41e4-f8ba-fbc87a4f32d2"
      },
      "outputs": [
        {
          "data": {
            "text/plain": [
              "list"
            ]
          },
          "execution_count": 45,
          "metadata": {},
          "output_type": "execute_result"
        }
      ],
      "source": [
        "#List is a compound data type.\n",
        "#Assign list values to variable\n",
        "list1 = ['abc', 2.0, True, [10, 20]]\n",
        "type(list1)"
      ]
    },
    {
      "cell_type": "code",
      "execution_count": null,
      "id": "637ade7b",
      "metadata": {
        "id": "637ade7b",
        "outputId": "171adc59-3ee4-4bc0-ea9a-f5300e2e3eeb"
      },
      "outputs": [
        {
          "name": "stdout",
          "output_type": "stream",
          "text": [
            "['Cheddar', 'Edam', 'Gouda'] [17, 123] []\n"
          ]
        },
        {
          "data": {
            "text/plain": [
              "list"
            ]
          },
          "execution_count": 46,
          "metadata": {},
          "output_type": "execute_result"
        }
      ],
      "source": [
        "cheeses = ['Cheddar', 'Edam', 'Gouda']\n",
        "number = [17, 123]\n",
        "empty = []\n",
        "print(cheeses, number, empty)\n",
        "\n",
        "#check the type of empty\n",
        "type(empty)"
      ]
    },
    {
      "cell_type": "markdown",
      "id": "6631730b",
      "metadata": {
        "id": "6631730b"
      },
      "source": [
        "## List and functions"
      ]
    },
    {
      "cell_type": "code",
      "execution_count": null,
      "id": "8602be42",
      "metadata": {
        "id": "8602be42",
        "outputId": "80608711-23b5-4919-ae25-216d91b6f9b1"
      },
      "outputs": [
        {
          "name": "stdout",
          "output_type": "stream",
          "text": [
            "12\n",
            "144\n",
            "69\n",
            "1104\n",
            "92.0\n"
          ]
        }
      ],
      "source": [
        "# Income data of 12 households (in thousands of dollars)\n",
        "data = [75, 69, 84, 112, 74, 104, 81, 90, 94, 144, 79, 98]\n",
        "print(len(data))\n",
        "print(max(data))\n",
        "print(min(data))\n",
        "print(sum(data))\n",
        "print(sum(data)/len(data))"
      ]
    },
    {
      "cell_type": "markdown",
      "id": "de53ed38",
      "metadata": {
        "id": "de53ed38"
      },
      "source": [
        "## To find central tendency of data with numpy"
      ]
    },
    {
      "cell_type": "code",
      "execution_count": null,
      "id": "7a11928f",
      "metadata": {
        "id": "7a11928f",
        "outputId": "2fc31914-aee1-423d-a7c3-539fdf8617fd"
      },
      "outputs": [
        {
          "name": "stdout",
          "output_type": "stream",
          "text": [
            "Mean: 92.0\n",
            "Median: 87.0\n"
          ]
        }
      ],
      "source": [
        "import numpy as np\n",
        "data = [75, 69, 84, 112, 74, 104, 81, 90, 94, 144, 79, 98]\n",
        "mean = np.mean(data)\n",
        "print(\"Mean:\", mean)\n",
        "\n",
        "median = np.median(data)\n",
        "print(\"Median:\", median)"
      ]
    },
    {
      "cell_type": "markdown",
      "id": "0dac5229",
      "metadata": {
        "id": "0dac5229"
      },
      "source": [
        "## To find 5-point summary of data with numpy"
      ]
    },
    {
      "cell_type": "code",
      "execution_count": null,
      "id": "e1c4917d",
      "metadata": {
        "id": "e1c4917d",
        "outputId": "279687df-6dbe-4ea2-d90b-35af5715229a"
      },
      "outputs": [
        {
          "name": "stdout",
          "output_type": "stream",
          "text": [
            "Minimum: 69\n",
            "Q1: 77.0\n",
            "Median: 87.0\n",
            "Q3: 101.0\n",
            "Maximum: 144\n"
          ]
        }
      ],
      "source": [
        "import numpy as np\n",
        "data = [75, 69, 84, 112, 74, 104, 81, 90, 94, 144, 79, 98]\n",
        "# 5-key summary\n",
        "minimum = np.min(data)\n",
        "q1 = np.percentile(data, 25, method = 'weibull')\n",
        "median = np.median(data)\n",
        "q3 = np.percentile(data, 75, method = 'weibull')\n",
        "maximum = np.max(data)\n",
        "\n",
        "# print results\n",
        "print(\"Minimum:\", minimum)\n",
        "print(\"Q1:\", q1)\n",
        "print(\"Median:\", median)\n",
        "print(\"Q3:\", q3)\n",
        "print(\"Maximum:\", maximum)"
      ]
    },
    {
      "cell_type": "code",
      "execution_count": null,
      "id": "0f32699c",
      "metadata": {
        "id": "0f32699c",
        "outputId": "6be58256-d57b-4699-9027-9f80744624f6"
      },
      "outputs": [
        {
          "name": "stdout",
          "output_type": "stream",
          "text": [
            "IQR: 24.0\n"
          ]
        }
      ],
      "source": [
        "# calculate the IQR of data\n",
        "IQR = q3 - q1\n",
        "print(\"IQR:\", IQR)"
      ]
    },
    {
      "cell_type": "code",
      "execution_count": null,
      "id": "57be7215",
      "metadata": {
        "id": "57be7215",
        "outputId": "e6f88a38-dd2d-4a7d-e6ba-23969f57dcfa"
      },
      "outputs": [
        {
          "name": "stdout",
          "output_type": "stream",
          "text": [
            "lowerfence: 41.0\n",
            "upperfence: 137.0\n"
          ]
        }
      ],
      "source": [
        "# calculate the lower and upper inner fence\n",
        "lowerfence = q1 - 1.5 * IQR\n",
        "upperfence = q3 + 1.5 * IQR\n",
        "print(\"lowerfence:\", lowerfence)\n",
        "print(\"upperfence:\", upperfence)"
      ]
    },
    {
      "cell_type": "markdown",
      "id": "57bf75e8",
      "metadata": {
        "id": "57bf75e8"
      },
      "source": [
        "## To find the dispersion of data with numpy"
      ]
    },
    {
      "cell_type": "code",
      "execution_count": null,
      "id": "b62e0d7c",
      "metadata": {
        "id": "b62e0d7c",
        "outputId": "ad22815e-4e15-46c5-8e7a-a9cf70502277"
      },
      "outputs": [
        {
          "name": "stdout",
          "output_type": "stream",
          "text": [
            "Variance: 8.25\n",
            "Standard Deviation: 2.8722813232690143\n",
            "Coefficient of Variation: 0.5222329678670935\n",
            "Coefficient of Variation: 0.52%\n"
          ]
        }
      ],
      "source": [
        "import numpy as np\n",
        "\n",
        "data2 = [1, 2, 3, 4, 5, 6, 7, 8, 9, 10]\n",
        "\n",
        "#calculate the mean of data2 and name it as mean2\n",
        "mean2 = np.mean(data2)\n",
        "\n",
        "variance = np.var(data2)\n",
        "print(\"Variance:\", variance)\n",
        "\n",
        "std_deviation = np.std(data2)\n",
        "print(\"Standard Deviation:\", std_deviation)\n",
        "\n",
        "coefficient_of_variation = std_deviation / mean2    #变异系数：通常是标准差与平均值（通常是算术平均值）之比\n",
        "print(\"Coefficient of Variation:\", coefficient_of_variation)\n",
        "print(f\"Coefficient of Variation: {coefficient_of_variation:.2f}%\")"
      ]
    },
    {
      "cell_type": "code",
      "execution_count": null,
      "id": "b3aef36e",
      "metadata": {
        "scrolled": false,
        "id": "b3aef36e",
        "outputId": "82e32004-bd0a-4c1c-cdef-3d07a8c1af12"
      },
      "outputs": [
        {
          "data": {
            "image/png": "[encoded data removed]",
            "text/plain": [
              "<Figure size 640x480 with 1 Axes>"
            ]
          },
          "metadata": {},
          "output_type": "display_data"
        }
      ],
      "source": [
        "import matplotlib.pyplot as plt\n",
        "\n",
        "data = [75, 69, 84, 112, 74, 104, 81, 90, 94, 144, 79, 98]\n",
        "\n",
        "# Create a boxplot\n",
        "plt.boxplot(data)\n",
        "\n",
        "# Add a title and labels\n",
        "plt.title('Boxplot of Household Income Data')\n",
        "plt.ylabel('Values')\n",
        "#plt.xticks([])\n",
        "\n",
        "# Show the plot\n",
        "\n",
        "plt.show()"
      ]
    }
  ],
  "metadata": {
    "kernelspec": {
      "display_name": "Python 3 (ipykernel)",
      "language": "python",
      "name": "python3"
    },
    "language_info": {
      "codemirror_mode": {
        "name": "ipython",
        "version": 3
      },
      "file_extension": ".py",
      "mimetype": "text/x-python",
      "name": "python",
      "nbconvert_exporter": "python",
      "pygments_lexer": "ipython3",
      "version": "3.11.4"
    },
    "colab": {
      "provenance": [],
      "include_colab_link": true
    }
  },
  "nbformat": 4,
  "nbformat_minor": 5
}